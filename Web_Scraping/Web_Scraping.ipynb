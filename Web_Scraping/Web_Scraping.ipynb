{
 "cells": [
  {
   "metadata": {},
   "cell_type": "raw",
   "source": [
    "---\n",
    "title: \"Actividad Extracurricular 12\"\n",
    "author: \"Anthony Contreras\"\n",
    "lang: es\n",
    "format:\n",
    "  pdf:\n",
    "    toc: true\n",
    "    toc-title: \"Tabla de Contenidos\"\n",
    "execute:\n",
    "  echo: true\n",
    "  error: false\n",
    "  warning: false\n",
    "jupyter: python3\n",
    "---"
   ],
   "id": "aaea12b01f70b447"
  },
  {
   "metadata": {},
   "cell_type": "markdown",
   "source": [
    "# ¿Qué es Web Scraping?\n",
    "\n",
    "El **web scraping** se refiere al proceso de extracción de contenidos y datos de sitios web mediante software automatizado. Esta técnica se utiliza para recolectar información de manera eficiente, especialmente cuando se necesita extraer grandes volúmenes de datos.\n",
    "\n",
    "El web scraping abarca una serie de prácticas que permiten obtener datos de la web de manera automática. Las aplicaciones del web scraping son diversas e incluyen áreas como la **investigación de mercado**, la **comparación de precios**, la **supervisión de contenidos** y la recopilación de cualquier tipo de información disponible en sitios web.\n",
    "\n",
    "## ¿Cómo Funciona?\n",
    "\n",
    "El proceso de scraping puede realizarse a través de diferentes herramientas y librerías en varios lenguajes de programación, siendo **Python** uno de los más populares gracias a sus librerías como **BeautifulSoup** y **Scrapy**.\n",
    "\n",
    "El web scraping puede extraer desde motores de búsqueda, **feeds RSS**, hasta información de sitios gubernamentales. La mayoría de los sitios web permiten el acceso automatizado a través de scrapers y crawlers. Sin embargo, no todos los datos están siempre disponibles para ser scrapados de manera sencilla. Dependiendo del sitio web y de las restricciones impuestas, puede que sea necesario usar trucos y herramientas específicas para obtener la información.\n",
    "\n",
    "Por ejemplo, los scrapers web tienen dificultades para extraer datos significativos de **contenido visual**, como imágenes, o de elementos que requieren interacción con JavaScript.\n",
    "\n",
    "## Consideraciones Legales y Éticas\n",
    "\n",
    "Es importante tener en cuenta las consideraciones legales y éticas cuando se realiza web scraping. Muchos sitios web tienen restricciones que limitan el acceso automatizado a sus contenidos, las cuales se encuentran en el archivo `robots.txt` de la página. Ignorar estas restricciones puede resultar en consecuencias legales o en la prohibición del acceso al sitio."
   ],
   "id": "d9127ecef76fbbc0"
  },
  {
   "metadata": {},
   "cell_type": "markdown",
   "source": "# Pruebas con Python",
   "id": "b9c2cb1ec47ed11"
  },
  {
   "metadata": {
    "ExecuteTime": {
     "end_time": "2025-01-09T01:54:37.233116Z",
     "start_time": "2025-01-09T01:54:34.892029Z"
    }
   },
   "cell_type": "code",
   "source": [
    "# Usando BeatifulSoup\n",
    "import requests\n",
    "from bs4 import BeautifulSoup\n",
    "\n",
    "# URL del sitio web\n",
    "url = 'https://www.epn.edu.ec'\n",
    "\n",
    "# Realizamos la solicitud HTTP\n",
    "response = requests.get(url)\n",
    "\n",
    "# Si la solicitud es exitosa (status 200), continuamos\n",
    "if response.status_code == 200:\n",
    "    soup = BeautifulSoup(response.text, 'html.parser')\n",
    "\n",
    "    # Extraemos los títulos del sitio\n",
    "    titles = soup.find_all('h1')  # Busca todos los <h1> en la página\n",
    "\n",
    "    for title in titles:\n",
    "        print(title.text)"
   ],
   "id": "5079bb68a8df4e8",
   "outputs": [
    {
     "name": "stdout",
     "output_type": "stream",
     "text": [
      "\n",
      "SÍGUENOS\n",
      "LLÁMANOS\n",
      "UBICACIÓN\n"
     ]
    }
   ],
   "execution_count": 1
  },
  {
   "metadata": {
    "ExecuteTime": {
     "end_time": "2025-01-09T02:13:51.740035Z",
     "start_time": "2025-01-09T02:13:48.850184Z"
    }
   },
   "cell_type": "code",
   "source": [
    "# Usando Scrapy\n",
    "from requests_html import HTMLSession\n",
    "\n",
    "# Crear una sesión de requests HTML\n",
    "session = HTMLSession()\n",
    "\n",
    "# URL del sitio web\n",
    "url = 'https://www.epn.edu.ec'\n",
    "\n",
    "# Realizar la solicitud HTTP al sitio web\n",
    "response = session.get(url)\n",
    "\n",
    "# Extraer todos los títulos de los encabezados <h1>\n",
    "for title in response.html.find('h1'):\n",
    "    print({'Title': title.text})\n",
    "\n",
    "# Cerrar la sesión cuando termine\n",
    "session.close()\n",
    "\n",
    "\n",
    "\n"
   ],
   "id": "164d8e3df5724a2d",
   "outputs": [
    {
     "name": "stderr",
     "output_type": "stream",
     "text": [
      "2025-01-08 21:13:48 [urllib3.connectionpool] DEBUG: Starting new HTTPS connection (1): www.epn.edu.ec:443\n",
      "2025-01-08 21:13:51 [urllib3.connectionpool] DEBUG: https://www.epn.edu.ec:443 \"GET / HTTP/11\" 200 45601\n"
     ]
    },
    {
     "name": "stdout",
     "output_type": "stream",
     "text": [
      "{'Title': ''}\n",
      "{'Title': 'SÍGUENOS'}\n",
      "{'Title': 'LLÁMANOS'}\n",
      "{'Title': 'UBICACIÓN'}\n"
     ]
    }
   ],
   "execution_count": 23
  },
  {
   "metadata": {},
   "cell_type": "markdown",
   "source": "He creado un script basico en python el cual nos permite realizar varios análisis aún la sigo desarrollando pero aquí está el link https://github.com/7heAnsw3r/FireScrap",
   "id": "3c26f0dc3600f03e"
  },
  {
   "metadata": {},
   "cell_type": "markdown",
   "source": [
    "# Referencias\n",
    "https://kinsta.com/es/base-de-conocimiento/que-es-web-scraping/"
   ],
   "id": "dcd099241ca5c4a8"
  }
 ],
 "metadata": {
  "kernelspec": {
   "display_name": "Python 3",
   "language": "python",
   "name": "python3"
  },
  "language_info": {
   "codemirror_mode": {
    "name": "ipython",
    "version": 2
   },
   "file_extension": ".py",
   "mimetype": "text/x-python",
   "name": "python",
   "nbconvert_exporter": "python",
   "pygments_lexer": "ipython2",
   "version": "2.7.6"
  }
 },
 "nbformat": 4,
 "nbformat_minor": 5
}
