{
 "cells": [
  {
   "metadata": {},
   "cell_type": "raw",
   "source": [
    "---\n",
    "title: \"Ejercicio determinante\"\n",
    "author: \"Anthony Contreras\"\n",
    "lang: es\n",
    "format:\n",
    "  pdf:\n",
    "    toc: true\n",
    "    toc-title: \"Tabla de Contenidos\"\n",
    "execute:\n",
    "  echo: true\n",
    "  error: false\n",
    "  warning: false\n",
    "jupyter: python3\n",
    "link-citation: true\n",
    "---"
   ],
   "id": "9aefe877093eb56f"
  },
  {
   "metadata": {},
   "cell_type": "markdown",
   "source": [
    "# [Participación en clase 12] Ejercicio determinante\n",
    "## Resolución Prueba 02\n",
    "- Nombre: Anthony Contreras\n",
    "- Fecha: 26/01/2025\n",
    "- Curso: Métodos Númericos GR1CC\n",
    "\n",
    "\n",
    "## Link\n",
    "[Paricipación 2](https://github.com/7heAnsw3r/metodos_numericos/blob/main/Participaci%C3%B3n/Participaci%C3%B3n_en_clase_12_Anthony_Contreras.ipynb)"
   ],
   "id": "162f92bd82cf1f86"
  },
  {
   "metadata": {},
   "cell_type": "markdown",
   "source": [
    "Resuelva el siguiente ejercicio:\n",
    "\n",
    "En base a la siguiente propiedad del determinante detA:\n",
    "\n",
    "\n",
    "![Propiedad](Imagen1.png)\n",
    "\n",
    "\n",
    "\n",
    "\n"
   ],
   "id": "7e701503ead11b9b"
  },
  {
   "metadata": {},
   "cell_type": "markdown",
   "source": [
    "Ejercicio 1\n",
    "\n",
    "Calcule el determinante de:\n",
    "\n",
    "A =\n",
    "\n",
    "    -4     2    -4    -4     1     2     5     3     5     1\n",
    "\n",
    "     1     0     4     3     0    -2     3     0     1     5\n",
    "\n",
    "     5     5    -4     5    -4     2     2     2     4     4\n",
    "\n",
    "    -1     3     4    -1    -4     0     5     0     0     5\n",
    "\n",
    "     4     1     4     2     0     0     3    -1     0     2\n",
    "\n",
    "     2    -2     1    -1    -2    -3     2    -2     4    -1\n",
    "\n",
    "     3    -2    -3    -2    -1    -3     5    -1     5     0\n",
    "\n",
    "     3     4    -3     3    -2     2    -4    -4     1     5\n",
    "\n",
    "    -4     0     3     3    -3    -2    -2     0     5    -4\n",
    "\n",
    "    -2     4     4    -2    -1     1     5    -1     3    -3"
   ],
   "id": "8df24346f0e8efdc"
  },
  {
   "metadata": {
    "ExecuteTime": {
     "end_time": "2025-01-27T01:25:26.417940Z",
     "start_time": "2025-01-27T01:25:26.374543Z"
    }
   },
   "cell_type": "code",
   "source": "%load_ext autoreload",
   "id": "fa1373555d7d1f7e",
   "outputs": [
    {
     "name": "stdout",
     "output_type": "stream",
     "text": [
      "The autoreload extension is already loaded. To reload it, use:\n",
      "  %reload_ext autoreload\n"
     ]
    }
   ],
   "execution_count": 5
  },
  {
   "metadata": {
    "ExecuteTime": {
     "end_time": "2025-01-27T01:25:26.460977Z",
     "start_time": "2025-01-27T01:25:26.421835Z"
    }
   },
   "cell_type": "code",
   "source": [
    "%autoreload 2\n",
    "from src import (\n",
    "    eliminacion_gaussiana,\n",
    "    descomposicion_LU,\n",
    "    resolver_LU,\n",
    "    matriz_aumentada,\n",
    "    separar_m_aumentada,\n",
    ")\n",
    "\n",
    "\n",
    "def calc_determinante(A: list[list[float]]) -> float:\n",
    "    \"\"\"\n",
    "    Calcula el determinante de una matriz usando eliminación de Gauss con pivoteo parcial.\n",
    "\n",
    "    Este método transforma la matriz en una matriz triangular superior,\n",
    "    y luego el determinante es el producto de los elementos de la diagonal principal.\n",
    "\n",
    "    ## Parámetros\n",
    "    A : list[list[float]]\n",
    "        Matriz cuadrada de tamaño n x n.\n",
    "\n",
    "    ## Retorno\n",
    "    float\n",
    "        Determinante de la matriz A.\n",
    "    \"\"\"\n",
    "    n = len(A)\n",
    "    U = [row[:] for row in A]\n",
    "    detA = 1\n",
    "\n",
    "\n",
    "    for i in range(n):\n",
    "        max_row = i\n",
    "        for k in range(i + 1, n):\n",
    "            if abs(U[k][i]) > abs(U[max_row][i]):\n",
    "                max_row = k\n",
    "\n",
    "        if i != max_row:\n",
    "            U[i], U[max_row] = U[max_row], U[i]\n",
    "            detA *= -1\n",
    "\n",
    "\n",
    "        if U[i][i] == 0:\n",
    "            return 0\n",
    "\n",
    "\n",
    "        for k in range(i + 1, n):\n",
    "            factor = U[k][i] / U[i][i]\n",
    "            for j in range(i, n):\n",
    "                U[k][j] -= factor * U[i][j]\n",
    "\n",
    "\n",
    "    for i in range(n):\n",
    "        detA *= U[i][i]\n",
    "\n",
    "    return detA"
   ],
   "id": "ac472e0873e01469",
   "outputs": [],
   "execution_count": 6
  },
  {
   "metadata": {
    "ExecuteTime": {
     "end_time": "2025-01-27T01:25:26.517053Z",
     "start_time": "2025-01-27T01:25:26.477360Z"
    }
   },
   "cell_type": "code",
   "source": [
    "A1 = [\n",
    "    [-4, 2, -4, -4, 1, 2, 5, 3, 5, 1],\n",
    "    [1, 0, 4, 3, 0, -2, 3, 0, 1, 5],\n",
    "    [5, 5, -4, 5, -4, 2, 2, 2, 4, 4],\n",
    "    [-1, 3, 4, -1, -4, 0, 5, 0, 0, 5],\n",
    "    [4, 1, 4, 2, 0, 0, 3, -1, 0, 2],\n",
    "    [2, -2, 1, -1, -2, -3, 2, -2, 4, -1],\n",
    "    [3, -2, -3, -2, -1, -3, 5, -1, 5, 0],\n",
    "    [3, 4, -3, 3, -2, 2, -4, -4, 1, 5],\n",
    "    [-4, 0, 3, 3, -3, -2, -2, 0, 5, -4],\n",
    "    [-2, 4, 4, -2, -1, 1, 5, -1, 3, -3],\n",
    "]\n",
    "print(f\"El determinante para la metriz 1 es: {calc_determinante(A1)}\")"
   ],
   "id": "cc454f4a0de657a7",
   "outputs": [
    {
     "name": "stdout",
     "output_type": "stream",
     "text": [
      "El determinante para la metriz 1 es: 9912776.0\n"
     ]
    }
   ],
   "execution_count": 7
  },
  {
   "metadata": {
    "ExecuteTime": {
     "end_time": "2025-01-27T01:25:26.569438Z",
     "start_time": "2025-01-27T01:25:26.530827Z"
    }
   },
   "cell_type": "code",
   "source": [
    "A2 = [\n",
    "    [2, 2, 4, 5, -2, -3, 2, -2],\n",
    "    [-1, -1, 3, 2, 1, 1, -4, 4],\n",
    "    [2, 5, -3, -3, -2, 2, 5, 3],\n",
    "    [-2, -4, 0, 1, -1, 5, -4, -1],\n",
    "    [1, -2, -1, 5, 5, 2, 1, -2],\n",
    "    [5, 4, 0, 3, 4, -1, -3, -2],\n",
    "    [4, -4, 1, 2, 3, 3, -1, 3],\n",
    "    [-2, 1, -3, 0, 5, 4, 4, -4],\n",
    "]\n",
    "print(f\"El determinante para la metriz 2 es: {calc_determinante(A2)}\")"
   ],
   "id": "bf94612bb9dd3a0f",
   "outputs": [
    {
     "name": "stdout",
     "output_type": "stream",
     "text": [
      "El determinante para la metriz 2 es: 2341546.0\n"
     ]
    }
   ],
   "execution_count": 8
  },
  {
   "metadata": {
    "ExecuteTime": {
     "end_time": "2025-01-27T01:25:26.585432Z",
     "start_time": "2025-01-27T01:25:26.581720Z"
    }
   },
   "cell_type": "code",
   "source": "",
   "id": "979efb190d56a483",
   "outputs": [],
   "execution_count": null
  }
 ],
 "metadata": {
  "kernelspec": {
   "display_name": "Python 3",
   "language": "python",
   "name": "python3"
  },
  "language_info": {
   "codemirror_mode": {
    "name": "ipython",
    "version": 2
   },
   "file_extension": ".py",
   "mimetype": "text/x-python",
   "name": "python",
   "nbconvert_exporter": "python",
   "pygments_lexer": "ipython2",
   "version": "2.7.6"
  }
 },
 "nbformat": 4,
 "nbformat_minor": 5
}
