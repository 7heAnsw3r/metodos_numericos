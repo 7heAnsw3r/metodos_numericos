{
 "cells": [
  {
   "metadata": {},
   "cell_type": "raw",
   "source": [
    "---\n",
    "title: \"Método de Newton, Secante y Bisección\"\n",
    "author: \"Anthony Contreras\"\n",
    "format:\n",
    "  html:\n",
    "    toc: true\n",
    "    toc-title: \"Tabla de Contenidos\"\n",
    "    theme: \"cosmo\"\n",
    "pdf: default\n",
    "---"
   ],
   "id": "839e9655645f427e"
  },
  {
   "metadata": {},
   "cell_type": "markdown",
   "source": [
    "# Conjunto de Ejercicios\n",
    "\n",
    "Link Repositorio Github: [Método de Newton, Secante y Bisección](https://github.com/7heAnsw3r/metodos_numericos/blob/main/M%C3%A9todo%20de%20Newton%20y%20de%20la%20Secante/newton_secante.ipynb)\n",
    "\n",
    "## Ejercicio 1\n",
    "Sea 𝑓(𝑥) = −𝑥³ − cos 𝑥 y 𝑝₀ = −1. Use el **método de Newton** y de la **Secante** para encontrar 𝑝₂.\n",
    "¿Se podría usar 𝑝₀ = 0?\n"
   ],
   "id": "add72476d03a24a1"
  },
  {
   "metadata": {
    "ExecuteTime": {
     "end_time": "2024-11-27T19:35:14.008075Z",
     "start_time": "2024-11-27T19:35:13.917301Z"
    }
   },
   "cell_type": "code",
   "source": [
    "import numpy as np\n",
    "\n",
    "def f(x):\n",
    "    return -x**3 - np.cos(x)\n",
    "\n",
    "def f_prime(x):\n",
    "    return -3 * x**2 + np.sin(x)\n",
    "\n",
    "def metodo_newton(f,f_prime, p0, tol=1e-10,max_iter=100):\n",
    "    for i in range(max_iter):\n",
    "        f_p0 = f(p0)\n",
    "        f_prime_p0 = f_prime(p0)\n",
    "        if abs(f_prime_p0) < tol:\n",
    "            print('La derivada es muy cercana a cero, el método no converge.')\n",
    "            return None\n",
    "        p1 = p0 - f_p0 / f_prime_p0\n",
    "        print(f'Iteración {i+1}: p{i} = {p0}, p{i+1} = {p1}')\n",
    "        if abs(p1 - p0) < tol:  # Converge si la diferencia es menor a la tolerancia\n",
    "            return p1\n",
    "        p0 = p1\n",
    "    print('No se alcanzó la tolerancia en el número máximo de iteraciones.')\n",
    "    return p0\n",
    "\n",
    "def metodo_secante(f, p0, p1, tol=1e-10, max_iter=100):\n",
    "    for i in range(max_iter):\n",
    "        f_p0 = f(p0)\n",
    "        f_p1 = f(p1)\n",
    "        if abs(f_p1 - f_p0) < tol:  # Evitar división por cero\n",
    "            print('La diferencia entre f(p0) y f(p1) es muy pequeña, el método no converge.')\n",
    "            return None\n",
    "        p2 = p1 - f_p1 * (p1 - p0) / (f_p1 - f_p0)\n",
    "        print(f'Iteración {i+1}: p{i} = {p0}, p{i+1} = {p1}, p{i+2} = {p2}')\n",
    "        if abs(p2 - p1) < tol:  # Converge si la diferencia es menor a la tolerancia\n",
    "            return p2\n",
    "        p0, p1 = p1, p2\n",
    "    print('No se alcanzó la tolerancia en el número máximo de iteraciones.')\n",
    "    return p1\n",
    "\n",
    "# Parámetros iniciales\n",
    "p0_newton = -1\n",
    "p0_secant = -1\n",
    "p1_secant = -0.8804  # A partir de Newton\n",
    "\n",
    "# Resolución con el método de Newton\n",
    "print('\\nMétodo de Newton:')\n",
    "p2_newton = metodo_newton(f, f_prime, p0_newton)\n",
    "\n",
    "# Resolución con el método de la Secante\n",
    "print('\\nMétodo de la Secante:')\n",
    "p2_secant = metodo_secante(f, p0_secant, p1_secant)\n",
    "\n",
    "# Resultados finales\n",
    "print('\\nResultado final:')\n",
    "print(f'Con el método de Newton: p2 ≈ {p2_newton}')\n",
    "print(f'Con el método de la Secante: p2 ≈ {p2_secant}')\n"
   ],
   "id": "44ab87f024617e88",
   "outputs": [
    {
     "name": "stdout",
     "output_type": "stream",
     "text": [
      "\n",
      "Método de Newton:\n",
      "Iteración 1: p0 = -1, p1 = -0.880332899571582\n",
      "Iteración 2: p1 = -0.880332899571582, p2 = -0.8656841631760818\n",
      "Iteración 3: p2 = -0.8656841631760818, p3 = -0.865474075952977\n",
      "Iteración 4: p3 = -0.865474075952977, p4 = -0.8654740331016162\n",
      "Iteración 5: p4 = -0.8654740331016162, p5 = -0.8654740331016144\n",
      "\n",
      "Método de la Secante:\n",
      "Iteración 1: p0 = -1, p1 = -0.8804, p2 = -0.8672429493882272\n",
      "Iteración 2: p1 = -0.8804, p2 = -0.8672429493882272, p3 = -0.8654993790397474\n",
      "Iteración 3: p2 = -0.8672429493882272, p3 = -0.8654993790397474, p4 = -0.865474076572966\n",
      "Iteración 4: p3 = -0.8654993790397474, p4 = -0.865474076572966, p5 = -0.865474033102684\n",
      "Iteración 5: p4 = -0.865474076572966, p5 = -0.865474033102684, p6 = -0.8654740331016144\n",
      "\n",
      "Resultado final:\n",
      "Con el método de Newton: p2 ≈ -0.8654740331016144\n",
      "Con el método de la Secante: p2 ≈ -0.8654740331016144\n"
     ]
    }
   ],
   "execution_count": 1
  },
  {
   "metadata": {},
   "cell_type": "markdown",
   "source": [
    "## Ejercicio 2\n",
    "\n",
    "Encuentre soluciones precisas dentro de \\(10^{-4}\\) para los siguientes problemas:\n",
    "\n",
    "a. \\(𝑥³ − 2𝑥² − 5 = 0\\), \\([1, 4]\\)\n",
    "\n",
    "b. \\(𝑥³ + 3𝑥² − 1 = 0\\), \\([-3, −2]\\)\n",
    "\n",
    "c. \\(𝑥 − \\cos 𝑥 = 0\\), \\([0, \\pi/2]\\)\n",
    "\n",
    "d. \\(𝑥 − 0.8 − 0.2 \\sin 𝑥 = 0\\), \\([0, \\pi/2]\\)\n"
   ],
   "id": "412d712878ad462b"
  },
  {
   "metadata": {
    "ExecuteTime": {
     "end_time": "2024-11-27T19:35:21.048416Z",
     "start_time": "2024-11-27T19:35:21.038906Z"
    }
   },
   "cell_type": "code",
   "source": [
    "intervalos = {\n",
    "    \"a\": (1, 4),\n",
    "    \"b\": (-3, -2),\n",
    "    \"c\": (0, np.pi / 2),\n",
    "    \"d\": (0, np.pi / 2),\n",
    "}\n",
    "\n",
    "def metodo_biseccion(f,a,b, tol =1e-4, max_iter = 100):\n",
    "    if f(a) * f(b) > 0:\n",
    "        print('NO tiene al menos una raiz')\n",
    "    print(f'Resolviendo el intervalo [{a},{b}] con tolerancia {tol}')\n",
    "    iteracion = 0\n",
    "    while (b - a) > tol and iteracion < max_iter:\n",
    "        p = (a+b)/2 # El primer paso es calcular el punto medio del intervalo\n",
    "        f_p = f(p)\n",
    "        print(f'Iteracion {iteracion +1}: p = {p}, p{iteracion +1} = {f_p}')\n",
    "        if abs(f_p) < tol or (b-a)/2 < tol: # Verificamos la tolerancia\n",
    "            return p\n",
    "        # Actualizamos los intervalos\n",
    "        if f(a) * f_p < 0:\n",
    "            b = p\n",
    "        else:\n",
    "            a = p\n",
    "        iteracion += 1\n",
    "    if iteracion == 100:\n",
    "        print('No se alcanzo la tolerancia en el numero maximo de iteraciones.')\n",
    "\n",
    "\n",
    "def f_a(x):  # a. x^3 - 2x^2 - 5\n",
    "    return x**3 - 2*x**2 - 5\n",
    "\n",
    "def f_b(x):  # b. x^3 + 3x^2 - 1\n",
    "    return x**3 + 3*x**2 - 1\n",
    "\n",
    "def f_c(x):  # c. x - cos(x)\n",
    "    return x - np.cos(x)\n",
    "\n",
    "def f_d(x):  # d. x - 0.8 - 0.2*sin(x)\n",
    "    return x - 0.8 - 0.2 * np.sin(x)\n",
    "\n",
    "# Resolución de las funciones usando el metodo de Bisección\n",
    "print(\"Soluciones del ejercicio 2:\\n\")\n",
    "\n",
    "# Función a\n",
    "sol_a = metodo_biseccion(f_a, *intervalos[\"a\"])\n",
    "print(f\"\\nSolución para (a): x ≈ {sol_a}\")\n",
    "\n",
    "# Función b\n",
    "sol_b = metodo_biseccion(f_b, *intervalos[\"b\"])\n",
    "print(f\"\\nSolución para (b): x ≈ {sol_b}\")\n",
    "\n",
    "# Función c\n",
    "sol_c = metodo_biseccion(f_c, *intervalos[\"c\"])\n",
    "print(f\"\\nSolución para (c): x ≈ {sol_c}\")\n",
    "\n",
    "# Función d\n",
    "sol_d = metodo_biseccion(f_d, *intervalos[\"d\"])\n",
    "print(f\"\\nSolución para (d): x ≈ {sol_d}\")\n"
   ],
   "id": "577088da625b131f",
   "outputs": [
    {
     "name": "stdout",
     "output_type": "stream",
     "text": [
      "Soluciones del ejercicio 2:\n",
      "\n",
      "Resolviendo el intervalo [1,4] con tolerancia 0.0001\n",
      "Iteracion 1: p = 2.5, p1 = -1.875\n",
      "Iteracion 2: p = 3.25, p2 = 8.203125\n",
      "Iteracion 3: p = 2.875, p3 = 2.232421875\n",
      "Iteracion 4: p = 2.6875, p4 = -0.034423828125\n",
      "Iteracion 5: p = 2.78125, p5 = 1.043243408203125\n",
      "Iteracion 6: p = 2.734375, p6 = 0.4907798767089844\n",
      "Iteracion 7: p = 2.7109375, p7 = 0.2248091697692871\n",
      "Iteracion 8: p = 2.69921875, p8 = 0.09435528516769409\n",
      "Iteracion 9: p = 2.693359375, p9 = 0.02975698560476303\n",
      "Iteracion 10: p = 2.6904296875, p10 = -0.0023855315521359444\n",
      "Iteracion 11: p = 2.69189453125, p11 = 0.01367269002366811\n",
      "Iteracion 12: p = 2.691162109375, p12 = 0.005640321163809858\n",
      "Iteracion 13: p = 2.6907958984375, p13 = 0.0016265804351860425\n",
      "Iteracion 14: p = 2.69061279296875, p14 = -0.00037967913272041187\n",
      "Iteracion 15: p = 2.690704345703125, p15 = 0.0006233997553692916\n",
      "\n",
      "Solución para (a): x ≈ 2.690704345703125\n",
      "Resolviendo el intervalo [-3,-2] con tolerancia 0.0001\n",
      "Iteracion 1: p = -2.5, p1 = 2.125\n",
      "Iteracion 2: p = -2.75, p2 = 0.890625\n",
      "Iteracion 3: p = -2.875, p3 = 0.033203125\n",
      "Iteracion 4: p = -2.9375, p4 = -0.460693359375\n",
      "Iteracion 5: p = -2.90625, p5 = -0.208160400390625\n",
      "Iteracion 6: p = -2.890625, p6 = -0.08609390258789062\n",
      "Iteracion 7: p = -2.8828125, p7 = -0.026100635528564453\n",
      "Iteracion 8: p = -2.87890625, p8 = 0.003637254238128662\n",
      "Iteracion 9: p = -2.880859375, p9 = -0.011210165917873383\n",
      "Iteracion 10: p = -2.8798828125, p10 = -0.003781077452003956\n",
      "Iteracion 11: p = -2.87939453125, p11 = -7.056735921651125e-05\n",
      "\n",
      "Solución para (b): x ≈ -2.87939453125\n",
      "Resolviendo el intervalo [0,1.5707963267948966] con tolerancia 0.0001\n",
      "Iteracion 1: p = 0.7853981633974483, p1 = 0.0782913822109007\n",
      "Iteracion 2: p = 0.39269908169872414, p2 = -0.5311804508125626\n",
      "Iteracion 3: p = 0.5890486225480862, p3 = -0.24242098975445903\n",
      "Iteracion 4: p = 0.6872233929727672, p4 = -0.08578706038996975\n",
      "Iteracion 5: p = 0.7363107781851077, p5 = -0.004640347169851511\n",
      "Iteracion 6: p = 0.760854470791278, p6 = 0.03660738783981099\n",
      "Iteracion 7: p = 0.7485826244881928, p7 = 0.015928352815779867\n",
      "Iteracion 8: p = 0.7424467013366502, p8 = 0.005630132459280346\n",
      "Iteracion 9: p = 0.739378739760879, p9 = 0.0004914153002637534\n",
      "Iteracion 10: p = 0.7378447589729933, p10 = -0.0020753364865229162\n",
      "Iteracion 11: p = 0.7386117493669362, p11 = -0.0007921780792695676\n",
      "Iteracion 12: p = 0.7389952445639076, p12 = -0.0001504357420498703\n",
      "Iteracion 13: p = 0.7391869921623933, p13 = 0.00017047619334453756\n",
      "Iteracion 14: p = 0.7390911183631504, p14 = 1.0016828909886755e-05\n",
      "\n",
      "Solución para (c): x ≈ 0.7390911183631504\n",
      "Resolviendo el intervalo [0,1.5707963267948966] con tolerancia 0.0001\n",
      "Iteracion 1: p = 0.7853981633974483, p1 = -0.1560231928398613\n",
      "Iteracion 2: p = 1.1780972450961724, p2 = 0.193321338593915\n",
      "Iteracion 3: p = 0.9817477042468103, p3 = 0.015453781786301246\n",
      "Iteracion 4: p = 0.8835729338221293, p4 = -0.07102915685041811\n",
      "Iteracion 5: p = 0.9326603190344698, p5 = -0.02798118726165924\n",
      "Iteracion 6: p = 0.9572040116406401, p6 = -0.006312950989676741\n",
      "Iteracion 7: p = 0.9694758579437253, p7 = 0.004557997386720136\n",
      "Iteracion 8: p = 0.9633399347921827, p8 = -0.000880568206038268\n",
      "Iteracion 9: p = 0.966407896367954, p9 = 0.0018379400927886758\n",
      "Iteracion 10: p = 0.9648739155800683, p10 = 0.00047849252421994226\n",
      "Iteracion 11: p = 0.9641069251861255, p11 = -0.0002010861699940636\n",
      "Iteracion 12: p = 0.9644904203830968, p12 = 0.00013869109162645277\n",
      "Iteracion 13: p = 0.9642986727846112, p13 = -3.120056015359918e-05\n",
      "\n",
      "Solución para (d): x ≈ 0.9642986727846112\n"
     ]
    }
   ],
   "execution_count": 2
  },
  {
   "metadata": {},
   "cell_type": "markdown",
   "source": [
    "\n",
    "## Ejercicio 3\n",
    "Use los dos métodos vistos en esta sección para encontrar las soluciones dentro de \\(10^{-5}\\) para los siguientes problemas:\n",
    "\n",
    "a. \\(3𝑥 − e^𝑥 = 0\\), \\(1 \\leq 𝑥 \\leq 2\\)\n",
    "b. \\(2𝑥 + 3 \\cos 𝑥 − e^𝑥 = 0\\), \\(1 \\leq 𝑥 \\leq 2\\)\n"
   ],
   "id": "c20a6f9b3876e6"
  },
  {
   "metadata": {
    "ExecuteTime": {
     "end_time": "2024-11-27T16:13:30.627835Z",
     "start_time": "2024-11-27T16:13:30.620324Z"
    }
   },
   "cell_type": "code",
   "source": [
    "# Vamos a utilizar las funciones que hemos utilizado anteriormente para resolver los ejercicios\n",
    "# Metodo de Newton\n",
    "def f_a(x):\n",
    "    return 3 * x - np.exp(x)\n",
    "\n",
    "def f_prime_a(x):\n",
    "    return 3 - np.exp(x)\n",
    "\n",
    "def f_b(x):\n",
    "    return 2 * x + 3 * np.cos(x) - np.exp(x)\n",
    "\n",
    "def f_prime_b(x):\n",
    "    return 2 - 3 * np.sin(x) - np.exp(x)\n",
    "\n",
    "newton_a = metodo_newton(f_a,f_prime_a,p0=1.5,tol=1e-5)\n",
    "print('\\n')\n",
    "newton_b = metodo_newton(f_b,f_prime_b,p0=1.5,tol=1e-5)"
   ],
   "id": "91044971b1e45e51",
   "outputs": [
    {
     "name": "stdout",
     "output_type": "stream",
     "text": [
      "Iteración 1: p0 = 1.5, p1 = 1.5123581458677815\n",
      "Iteración 2: p1 = 1.5123581458677815, p2 = 1.512134625427124\n",
      "Iteración 3: p2 = 1.512134625427124, p3 = 1.5121345516578504\n",
      "\n",
      "\n",
      "Iteración 1: p0 = 1.5, p1 = 1.268096984432167\n",
      "Iteración 2: p1 = 1.268096984432167, p2 = 1.240119693460797\n",
      "Iteración 3: p2 = 1.240119693460797, p3 = 1.2397147825931407\n",
      "Iteración 4: p3 = 1.2397147825931407, p4 = 1.2397146979752212\n"
     ]
    }
   ],
   "execution_count": 15
  },
  {
   "metadata": {
    "ExecuteTime": {
     "end_time": "2024-11-27T16:13:36.171025Z",
     "start_time": "2024-11-27T16:13:36.163884Z"
    }
   },
   "cell_type": "code",
   "source": [
    "# Metodo de la Secante\n",
    "\n",
    "secante_a = metodo_secante(f_a,1,2,tol=1e-5)\n",
    "print('\\n')\n",
    "secante_b = metodo_secante(f_b,1,2,tol=1e-5)"
   ],
   "id": "a19a4abbc9856814",
   "outputs": [
    {
     "name": "stdout",
     "output_type": "stream",
     "text": [
      "Iteración 1: p0 = 1, p1 = 2, p2 = 1.1686153399174835\n",
      "Iteración 2: p1 = 2, p2 = 1.1686153399174835, p3 = 1.3115165547175733\n",
      "Iteración 3: p2 = 1.1686153399174835, p3 = 1.3115165547175733, p4 = 1.7970430096312444\n",
      "Iteración 4: p3 = 1.3115165547175733, p4 = 1.7970430096312444, p5 = 1.4367778925334904\n",
      "Iteración 5: p4 = 1.7970430096312444, p5 = 1.4367778925334904, p6 = 1.4867662868726117\n",
      "Iteración 6: p5 = 1.4367778925334904, p6 = 1.4867662868726117, p7 = 1.5153257605230879\n",
      "Iteración 7: p6 = 1.4867662868726117, p7 = 1.5153257605230879, p8 = 1.512011934333299\n",
      "Iteración 8: p7 = 1.5153257605230879, p8 = 1.512011934333299, p9 = 1.5121339760022816\n",
      "Iteración 9: p8 = 1.512011934333299, p9 = 1.5121339760022816, p10 = 1.5121345517620621\n",
      "\n",
      "\n",
      "Iteración 1: p0 = 1, p1 = 2, p2 = 1.1629251374599332\n",
      "Iteración 2: p1 = 2, p2 = 1.1629251374599332, p3 = 1.216410423288127\n",
      "Iteración 3: p2 = 1.1629251374599332, p3 = 1.216410423288127, p4 = 1.2406842080722846\n",
      "Iteración 4: p3 = 1.216410423288127, p4 = 1.2406842080722846, p5 = 1.2397029136618418\n",
      "Iteración 5: p4 = 1.2406842080722846, p5 = 1.2397029136618418, p6 = 1.239714692081511\n",
      "Iteración 6: p5 = 1.2397029136618418, p6 = 1.239714692081511, p7 = 1.2397146979752531\n"
     ]
    }
   ],
   "execution_count": 17
  },
  {
   "metadata": {},
   "cell_type": "markdown",
   "source": [
    "## Ejericio 4\n",
    "El polinomio de cuarto grado\n",
    "\\[𝑓(𝑥) = 230𝑥⁴ + 18𝑥³ + 9𝑥² − 221𝑥 − 9\\]\n",
    "tiene dos ceros reales, uno en \\([-1, 0]\\) y el otro en \\([0, 1]\\). Intente aproximar estos ceros dentro de \\(10^{-6}\\) usando:\n",
    "\n",
    "a. El **método de la secante** (use los extremos como las estimaciones iniciales).\n",
    "b. El **método de Newton** (use el punto medio como estimación inicial)."
   ],
   "id": "af3af68cbf22eb6c"
  },
  {
   "metadata": {
    "ExecuteTime": {
     "end_time": "2024-11-27T16:13:38.348648Z",
     "start_time": "2024-11-27T16:13:38.341875Z"
    }
   },
   "cell_type": "code",
   "outputs": [
    {
     "name": "stdout",
     "output_type": "stream",
     "text": [
      "Iteración 1: p0 = -0.5, p1 = -0.15045248868778283\n",
      "Iteración 2: p1 = -0.15045248868778283, p2 = -0.04181681394887035\n",
      "Iteración 3: p2 = -0.04181681394887035, p3 = -0.04065934349732934\n",
      "Iteración 4: p3 = -0.04065934349732934, p4 = -0.04065928831575899\n",
      "Iteración 5: p4 = -0.04065928831575899, p5 = -0.040659288315758865\n",
      "\n",
      "\n",
      "Iteración 1: p0 = 0.5, p1 = -0.7050898203592815\n",
      "Iteración 2: p1 = -0.7050898203592815, p2 = -0.3237911142304748\n",
      "Iteración 3: p2 = -0.3237911142304748, p3 = -0.06460313103057486\n",
      "Iteración 4: p3 = -0.06460313103057486, p4 = -0.04068615115195558\n",
      "Iteración 5: p4 = -0.04068615115195558, p5 = -0.04065928834533494\n",
      "Iteración 6: p5 = -0.04065928834533494, p6 = -0.040659288315758865\n"
     ]
    }
   ],
   "execution_count": 18,
   "source": [
    "# Definimos la funcion y su derivada para el metodo de newton\n",
    "\n",
    "# Función f(x) y su derivada f'(x)\n",
    "def f_4(x):\n",
    "    return 230 * x**4 + 18 * x**3 + 9 * x**2 - 221 * x - 9\n",
    "\n",
    "def f_prime_4(x):\n",
    "    return 920 * x**3 + 54 * x**2 + 18 * x - 221\n",
    "\n",
    "\n",
    "newton_4_a = metodo_newton(f_4,f_prime_4,-0.5)\n",
    "print('\\n')\n",
    "newton_4_b = metodo_newton(f_4,f_prime_4,0.5)\n",
    "\n"
   ],
   "id": "5764e99c98f619e2"
  },
  {
   "metadata": {
    "ExecuteTime": {
     "end_time": "2024-11-27T16:27:24.181266Z",
     "start_time": "2024-11-27T16:27:24.165288Z"
    }
   },
   "cell_type": "code",
   "source": [
    "# Ahora con el metodo de la secante\n",
    "\n",
    "secate_4_a = metodo_secante(f_4,-1,0)\n",
    "print('\\n')\n",
    "secate_4_b = metodo_secante(f_4,0,1)\n"
   ],
   "id": "433bca67f3e0c83f",
   "outputs": [
    {
     "name": "stdout",
     "output_type": "stream",
     "text": [
      "Iteración 1: p0 = -1, p1 = 0, p2 = -0.020361990950226245\n",
      "Iteración 2: p1 = 0, p2 = -0.020361990950226245, p3 = -0.04069125643524189\n",
      "Iteración 3: p2 = -0.020361990950226245, p3 = -0.04069125643524189, p4 = -0.04065926257769109\n",
      "Iteración 4: p3 = -0.04069125643524189, p4 = -0.04065926257769109, p5 = -0.040659288315725135\n",
      "Iteración 5: p4 = -0.04065926257769109, p5 = -0.040659288315725135, p6 = -0.040659288315758865\n",
      "\n",
      "\n",
      "Iteración 1: p0 = 0, p1 = 1, p2 = 0.25\n",
      "Iteración 2: p1 = 1, p2 = 0.25, p3 = 0.7737627651217597\n",
      "Iteración 3: p2 = 0.25, p3 = 0.7737627651217597, p4 = -1.2854177835209222\n",
      "Iteración 4: p3 = 0.7737627651217597, p4 = -1.2854177835209222, p5 = 0.5945955204028852\n",
      "Iteración 5: p4 = -1.2854177835209222, p5 = 0.5945955204028852, p6 = 0.3946411046833955\n",
      "Iteración 6: p5 = 0.5945955204028852, p6 = 0.3946411046833955, p7 = -0.6693181355515856\n",
      "Iteración 7: p6 = 0.3946411046833955, p7 = -0.6693181355515856, p8 = 0.04971439761607255\n",
      "Iteración 8: p7 = -0.6693181355515856, p8 = 0.04971439761607255, p9 = -0.020754150823816236\n",
      "Iteración 9: p8 = 0.04971439761607255, p9 = -0.020754150823816236, p10 = -0.04073533289637811\n",
      "Iteración 10: p9 = -0.020754150823816236, p10 = -0.04073533289637811, p11 = -0.04065922824320605\n",
      "Iteración 11: p10 = -0.04073533289637811, p11 = -0.04065922824320605, p12 = -0.04065928831557162\n",
      "Iteración 12: p11 = -0.04065922824320605, p12 = -0.04065928831557162, p13 = -0.040659288315758865\n"
     ]
    }
   ],
   "execution_count": 24
  },
  {
   "metadata": {},
   "cell_type": "markdown",
   "source": [
    "## Ejercicio 5\n",
    "La función\n",
    "\\[𝑓(𝑥) = \\tan(𝜋𝑥) − 6\\]\n",
    "tiene un cero en \\(\\frac{1}{\\pi} \\arctan(6) \\approx 0.447431543\\). Sea \\(𝑝₀ = 0\\) y \\(𝑝₁ = 0.48\\), y use **10 iteraciones** en cada uno de los siguientes métodos para aproximar esta raíz.\n",
    "¿Cuál método es más eficaz y por qué?\n",
    "\n",
    "a. **Método de Bisección**\n",
    "b. **Método de Newton**\n",
    "c. **Método de la Secante**\n"
   ],
   "id": "f8559e503921e95d"
  },
  {
   "metadata": {
    "ExecuteTime": {
     "end_time": "2024-11-27T16:22:17.179728Z",
     "start_time": "2024-11-27T16:22:17.160759Z"
    }
   },
   "cell_type": "code",
   "source": [
    "# Definimos sus funciones\n",
    "\n",
    "# Función f(x) y su derivada f'(x)\n",
    "def f_5(x):\n",
    "    return np.tan(np.pi * x) - 6\n",
    "\n",
    "def f_prime_5(x):\n",
    "    return np.pi * (1 / np.cos(np.pi * x))**2\n",
    "\n",
    "\n",
    "newton_5 = metodo_newton(f_5,f_prime_5,p0=0.48,max_iter=10)\n"
   ],
   "id": "8af9a12427de78b",
   "outputs": [
    {
     "name": "stdout",
     "output_type": "stream",
     "text": [
      "Iteración 1: p0 = 0.48, p1 = 0.4675825019258912\n",
      "Iteración 2: p1 = 0.4675825019258912, p2 = 0.4551291915177739\n",
      "Iteración 3: p2 = 0.4551291915177739, p3 = 0.4485512339384831\n",
      "Iteración 4: p3 = 0.4485512339384831, p4 = 0.4474551842507058\n",
      "Iteración 5: p4 = 0.4474551842507058, p5 = 0.4474315538237576\n",
      "Iteración 6: p5 = 0.4474315538237576, p6 = 0.4474315432887487\n",
      "Iteración 7: p6 = 0.4474315432887487, p7 = 0.4474315432887466\n"
     ]
    }
   ],
   "execution_count": 20
  },
  {
   "metadata": {
    "ExecuteTime": {
     "end_time": "2024-11-27T16:22:50.229860Z",
     "start_time": "2024-11-27T16:22:50.222862Z"
    }
   },
   "cell_type": "code",
   "source": "secante_5 = metodo_secante(f_5,0,0.48,max_iter=10)",
   "id": "54d6d75f60e74c31",
   "outputs": [
    {
     "name": "stdout",
     "output_type": "stream",
     "text": [
      "Iteración 1: p0 = 0, p1 = 0.48, p2 = 0.18119424169051174\n",
      "Iteración 2: p1 = 0.48, p2 = 0.18119424169051174, p3 = 0.2861871658222898\n",
      "Iteración 3: p2 = 0.18119424169051174, p3 = 0.2861871658222898, p4 = 1.0919861065027499\n",
      "Iteración 4: p3 = 0.2861871658222898, p4 = 1.0919861065027499, p5 = -3.6922966654011073\n",
      "Iteración 5: p4 = 1.0919861065027499, p5 = -3.6922966654011073, p6 = -22.60064985474053\n",
      "Iteración 6: p5 = -3.6922966654011073, p6 = -22.60064985474053, p7 = -57.22283247260205\n",
      "Iteración 7: p6 = -22.60064985474053, p7 = -57.22283247260205, p8 = 3.5387581457345476\n",
      "Iteración 8: p7 = -57.22283247260205, p8 = 3.5387581457345476, p9 = -113.94440504807905\n",
      "Iteración 9: p8 = 3.5387581457345476, p9 = -113.94440504807905, p10 = -195.89499482451663\n",
      "Iteración 10: p9 = -113.94440504807905, p10 = -195.89499482451663, p11 = -2989.9400375314453\n",
      "No se alcanzó la tolerancia en el número máximo de iteraciones.\n"
     ]
    }
   ],
   "execution_count": 21
  },
  {
   "metadata": {
    "ExecuteTime": {
     "end_time": "2024-11-27T16:25:05.514122Z",
     "start_time": "2024-11-27T16:25:05.506812Z"
    }
   },
   "cell_type": "code",
   "source": "biseccion_5 = metodo_biseccion(f_5,0,0.48,max_iter=10)",
   "id": "6dbc007dfb18489e",
   "outputs": [
    {
     "name": "stdout",
     "output_type": "stream",
     "text": [
      "Resolviendo el intervalo [0,0.48] con tolerancia 0.0001\n",
      "Iteracion 1: p = 0.24, p1 = -5.060937494182507\n",
      "Iteracion 2: p = 0.36, p2 = -3.874891826842797\n",
      "Iteracion 3: p = 0.42, p3 = -2.105257145070144\n",
      "Iteracion 4: p = 0.44999999999999996, p4 = 0.3137515146750314\n",
      "Iteracion 5: p = 0.43499999999999994, p5 = -1.171182647807246\n",
      "Iteracion 6: p = 0.44249999999999995, p6 = -0.5245211508218706\n",
      "Iteracion 7: p = 0.4462499999999999, p7 = -0.13434976287736955\n",
      "Iteracion 8: p = 0.44812499999999994, p8 = 0.08167438867622234\n",
      "Iteracion 9: p = 0.44718749999999996, p9 = -0.028237440581283302\n",
      "Iteracion 10: p = 0.44765625, p10 = 0.0262307752703812\n"
     ]
    }
   ],
   "execution_count": 22
  },
  {
   "metadata": {},
   "cell_type": "markdown",
   "source": "El método de Newton es generalmente considerado el más eficiente debido a su rapidez y eficiencia en la reducción del error. Este método converge rápidamente hacia la solución, lo que lo convierte en una opción ideal cuando se dispone de un buen valor inicial. Sin embargo, si no contamos con un valor inicial adecuado, el método de la secante puede ser más apropiado. Aunque este método puede requerir más iteraciones, tiene la ventaja de no necesitar el cálculo de la primera derivada de la función. Finalmente, el método de la bisección, aunque fiable, es comparativamente más lento que los otros dos métodos.",
   "id": "98263f1389525fe"
  },
  {
   "metadata": {},
   "cell_type": "markdown",
   "source": [
    "## Ejercicio 6\n",
    "La función descrita por\n",
    "\\[𝑓(𝑥) = \\ln(𝑥² + 1) − e^{0.4𝑥} \\cos(𝜋𝑥)\\]\n",
    "tiene un número infinito de ceros.\n",
    "\n",
    "a. Determine, dentro de \\(10^{-6}\\), el único cero negativo.\n",
    "\n",
    "b. Determine, dentro de \\(10^{-6}\\), los **cuatro ceros positivos más pequeños**.\n",
    "\n",
    "c. Determine una aproximación inicial razonable para encontrar el enésimo cero positivo más pequeño de \\(𝑓\\).\n",
    "   [Sugerencia: Dibuje una gráfica aproximada de \\(𝑓\\).]\n",
    "\n",
    "d. Use la parte c) para determinar, dentro de \\(10^{-6}\\), el **vigesimoquinto cero positivo más pequeño** de \\(𝑓\\).\n"
   ],
   "id": "23286a3bb90579e3"
  },
  {
   "metadata": {
    "ExecuteTime": {
     "end_time": "2024-11-27T16:32:54.051783Z",
     "start_time": "2024-11-27T16:32:54.026609Z"
    }
   },
   "cell_type": "code",
   "source": [
    "# Literal A\n",
    "\n",
    "def f_6(x):\n",
    "    return np.log(x**2 + 1) - np.exp(0.4 * x) * np.cos(np.pi * x)\n",
    "\n",
    "def f_prime_6(x):\n",
    "    return (2 * x / (x**2 + 1)) - 0.4 * np.exp(0.4 * x) * np.cos(np.pi * x) + np.pi * np.exp(0.4 * x) * np.sin(np.pi * x)\n",
    "\n",
    "unico_cero = metodo_newton(f_6,f_prime_6,p0=-0.5)\n",
    "\n"
   ],
   "id": "54b117665bd363b9",
   "outputs": [
    {
     "name": "stdout",
     "output_type": "stream",
     "text": [
      "Iteración 1: p0 = -0.5, p1 = -0.43382689545228015\n",
      "Iteración 2: p1 = -0.43382689545228015, p2 = -0.4341430585731075\n",
      "Iteración 3: p2 = -0.4341430585731075, p3 = -0.43414304728572883\n",
      "Iteración 4: p3 = -0.43414304728572883, p4 = -0.4341430472857288\n"
     ]
    }
   ],
   "execution_count": 26
  },
  {
   "metadata": {
    "ExecuteTime": {
     "end_time": "2024-11-27T16:40:20.912222Z",
     "start_time": "2024-11-27T16:40:20.904223Z"
    }
   },
   "cell_type": "code",
   "source": [
    "# Literal B\n",
    "# Lista para almacenar los ceros\n",
    "ceros_positivos = []\n",
    "\n",
    "# Aproximaciones iniciales para los primeros cuatro ceros positivos\n",
    "p_iniciales = [0.5, 1.5, 2.5, 3.5]\n",
    "\n",
    "for p in p_iniciales:\n",
    "    cero = metodo_newton(f_6, f_prime_6, p0=p)\n",
    "    print('\\n')\n",
    "    ceros_positivos.append(cero)\n",
    "\n",
    "print(f'Cuatro ceros positivos más pequeños: {ceros_positivos}')"
   ],
   "id": "19a911a14f38d4aa",
   "outputs": [
    {
     "name": "stdout",
     "output_type": "stream",
     "text": [
      "Iteración 1: p0 = 0.5, p1 = 0.451879159703456\n",
      "Iteración 2: p1 = 0.451879159703456, p2 = 0.4506577398553849\n",
      "Iteración 3: p2 = 0.4506577398553849, p3 = 0.45065674789059323\n",
      "Iteración 4: p3 = 0.45065674789059323, p4 = 0.45065674788993576\n",
      "\n",
      "\n",
      "Iteración 1: p0 = 1.5, p1 = 1.745487757282019\n",
      "Iteración 2: p1 = 1.745487757282019, p2 = 1.7447374072120456\n",
      "Iteración 3: p2 = 1.7447374072120456, p3 = 1.7447380533683496\n",
      "Iteración 4: p3 = 1.7447380533683496, p4 = 1.7447380533688273\n",
      "\n",
      "\n",
      "Iteración 1: p0 = 2.5, p1 = 2.2853594225939764\n",
      "Iteración 2: p1 = 2.2853594225939764, p2 = 2.2419356088744236\n",
      "Iteración 3: p2 = 2.2419356088744236, p3 = 2.2383458848583833\n",
      "Iteración 4: p3 = 2.2383458848583833, p4 = 2.238319796456584\n",
      "Iteración 5: p4 = 2.238319796456584, p5 = 2.2383197950741383\n",
      "Iteración 6: p5 = 2.2383197950741383, p6 = 2.2383197950741383\n",
      "\n",
      "\n",
      "Iteración 1: p0 = 3.5, p1 = 3.7116038835749867\n",
      "Iteración 2: p1 = 3.7116038835749867, p2 = 3.709036211970711\n",
      "Iteración 3: p2 = 3.709036211970711, p3 = 3.709041201357361\n",
      "Iteración 4: p3 = 3.709041201357361, p4 = 3.709041201375952\n",
      "\n",
      "\n",
      "Cuatro ceros positivos más pequeños: [np.float64(0.45065674788993576), np.float64(1.7447380533688273), np.float64(2.2383197950741383), np.float64(3.709041201375952)]\n"
     ]
    }
   ],
   "execution_count": 31
  },
  {
   "metadata": {
    "ExecuteTime": {
     "end_time": "2024-11-27T16:40:23.001741Z",
     "start_time": "2024-11-27T16:40:22.996384Z"
    }
   },
   "cell_type": "code",
   "source": [
    "# Literal D\n",
    "# Encontrar el vigesimoquinto cero positivo\n",
    "cero_25 = metodo_newton(f_6, f_prime_6,25.5)\n",
    "print(f'Vigesimoquinto cero positivo: {cero_25}')"
   ],
   "id": "f9e057e4685cff55",
   "outputs": [
    {
     "name": "stdout",
     "output_type": "stream",
     "text": [
      "Iteración 1: p0 = 25.5, p1 = 25.50007665626619\n",
      "Iteración 2: p1 = 25.50007665626619, p2 = 25.50007665391656\n",
      "Iteración 3: p2 = 25.50007665391656, p3 = 25.50007665391656\n",
      "Vigesimoquinto cero positivo: 25.50007665391656\n"
     ]
    }
   ],
   "execution_count": 32
  },
  {
   "metadata": {},
   "cell_type": "markdown",
   "source": [
    "## Ejercicio 7\n",
    "La función \\(𝑓(𝑥) = 𝑥^{1/3}\\) tiene raíz en \\(𝑥 = 0\\).\n",
    "Usando el punto de inicio de \\(𝑥 = 1\\) y \\(𝑝₀ = 5\\), \\(𝑝₁ = 0.5\\) para el método de la secante, compare los resultados de los **métodos de la Secante** y de **Newton**."
   ],
   "id": "1b0b6541141bf11e"
  },
  {
   "metadata": {
    "ExecuteTime": {
     "end_time": "2024-11-27T19:50:13.024085Z",
     "start_time": "2024-11-27T19:50:12.993975Z"
    }
   },
   "cell_type": "code",
   "source": [
    "def f7(x):\n",
    "    return x**(1/3)\n",
    "\n",
    "def f_prime7(x):\n",
    "    return (1/3) * x**(-2/3)\n",
    "\n",
    "\n",
    "raiz_newton = metodo_newton(f7, f_prime7, 1)\n",
    "print('\\n')\n",
    "raiz_secante = metodo_secante(f7, 5, 0.5)\n",
    "\n",
    "print(f'Resultado del Método de Newton: {raiz_newton}')\n",
    "print('\\n')\n",
    "print(f'Resultado del Método de la Secante: {raiz_secante}')\n"
   ],
   "id": "19d1b468c6086684",
   "outputs": [
    {
     "name": "stdout",
     "output_type": "stream",
     "text": [
      "Iteración 1: p0 = 1, p1 = -2.0\n",
      "Iteración 2: p1 = -2.0, p2 = (4-2.2893847434456487e-15j)\n",
      "Iteración 3: p2 = (4-2.2893847434456487e-15j), p3 = (-7.999999999999998+4.5787694868912965e-15j)\n",
      "Iteración 4: p3 = (-7.999999999999998+4.5787694868912965e-15j), p4 = (15.999999999999991-2.195811558520189e-14j)\n",
      "Iteración 5: p4 = (15.999999999999991-2.195811558520189e-14j), p5 = (-31.99999999999998+4.391623117040377e-14j)\n",
      "Iteración 6: p5 = (-31.99999999999998+4.391623117040377e-14j), p6 = (63.999999999999936-1.1889466323432573e-13j)\n",
      "Iteración 7: p6 = (63.999999999999936-1.1889466323432573e-13j), p7 = (-127.99999999999983+2.377893264686514e-13j)\n",
      "Iteración 8: p7 = (-127.99999999999983+2.377893264686514e-13j), p8 = (255.9999999999996-6.413344150144774e-13j)\n",
      "Iteración 9: p8 = (255.9999999999996-6.413344150144774e-13j), p9 = (-511.99999999999903+1.282668830028954e-12j)\n",
      "Iteración 10: p9 = (-511.99999999999903+1.282668830028954e-12j), p10 = (1023.9999999999977-2.1878942263561007e-12j)\n",
      "Iteración 11: p10 = (1023.9999999999977-2.1878942263561007e-12j), p11 = (-2047.9999999999945+4.3757884527122e-12j)\n",
      "Iteración 12: p11 = (-2047.9999999999945+4.3757884527122e-12j), p12 = (4095.999999999988-1.0137639848509385e-11j)\n",
      "Iteración 13: p12 = (4095.999999999988-1.0137639848509385e-11j), p13 = (-8191.999999999972+2.0275279697018756e-11j)\n",
      "Iteración 14: p13 = (-8191.999999999972+2.0275279697018756e-11j), p14 = (16383.99999999993-3.59886397579014e-11j)\n",
      "Iteración 15: p14 = (16383.99999999993-3.59886397579014e-11j), p15 = (-32767.999999999844+7.197727951580276e-11j)\n",
      "Iteración 16: p15 = (-32767.999999999844+7.197727951580276e-11j), p16 = (65535.999999999636-1.548646291908965e-10j)\n",
      "Iteración 17: p16 = (65535.999999999636-1.548646291908965e-10j), p17 = (-131071.99999999914+3.097292583817926e-10j)\n",
      "Iteración 18: p17 = (-131071.99999999914+3.097292583817926e-10j), p18 = (262143.99999999808-5.953132449148943e-10j)\n",
      "Iteración 19: p18 = (262143.99999999808-5.953132449148943e-10j), p19 = (-524287.99999999563+1.1906264898297877e-09j)\n",
      "Iteración 20: p19 = (-524287.99999999563+1.1906264898297877e-09j), p20 = (1048575.9999999905-2.5302940501222528e-09j)\n",
      "Iteración 21: p20 = (1048575.9999999905-2.5302940501222528e-09j), p21 = (-2097151.9999999783+5.0605881002445005e-09j)\n",
      "Iteración 22: p21 = (-2097151.9999999783+5.0605881002445005e-09j), p22 = (4194303.9999999534-8.852382300433e-09j)\n",
      "Iteración 23: p22 = (4194303.9999999534-8.852382300433e-09j), p23 = (-8388607.999999896+1.770476460086598e-08j)\n",
      "Iteración 24: p23 = (-8388607.999999896+1.770476460086598e-08j), p24 = (16777215.999999776-4.0217955610121755e-08j)\n",
      "Iteración 25: p24 = (16777215.999999776-4.0217955610121755e-08j), p25 = (-33554431.99999951+8.043591122024339e-08j)\n",
      "Iteración 26: p25 = (-33554431.99999951+8.043591122024339e-08j), p26 = (67108863.99999891-1.577030033366861e-07j)\n",
      "Iteración 27: p26 = (67108863.99999891-1.577030033366861e-07j), p27 = (-134217727.99999763+3.1540600667337177e-07j)\n",
      "Iteración 28: p27 = (-134217727.99999763+3.1540600667337177e-07j), p28 = (268435455.999995-5.94381275179622e-07j)\n",
      "Iteración 29: p28 = (268435455.999995-5.94381275179622e-07j), p29 = (-536870911.99998915+1.1887625503592426e-06j)\n",
      "Iteración 30: p29 = (-536870911.99998915+1.1887625503592426e-06j), p30 = (1073741823.9999768-2.518291543143952e-06j)\n",
      "Iteración 31: p30 = (1073741823.9999768-2.518291543143952e-06j), p31 = (-2147483647.9999504+5.036583086287896e-06j)\n",
      "Iteración 32: p31 = (-2147483647.9999504+5.036583086287896e-06j), p32 = (4294967295.999893-9.712665815302494e-06j)\n",
      "Iteración 33: p32 = (4294967295.999893-9.712665815302494e-06j), p33 = (-8589934591.999771+1.9425331630604957e-05j)\n",
      "Iteración 34: p33 = (-8589934591.999771+1.9425331630604957e-05j), p34 = (17179869183.999512-4.003991368540312e-05j)\n",
      "Iteración 35: p34 = (17179869183.999512-4.003991368540312e-05j), p35 = (-34359738367.99897+8.007982737080612e-05j)\n",
      "Iteración 36: p35 = (-34359738367.99897+8.007982737080612e-05j), p36 = (68719476735.997826-0.00016341509413929687j)\n",
      "Iteración 37: p36 = (68719476735.997826-0.00016341509413929687j), p37 = (-137438953471.99539+0.00032683018827859303j)\n",
      "Iteración 38: p37 = (-137438953471.99539+0.00032683018827859303j), p38 = (274877906943.9902-0.0006171217414231852j)\n",
      "Iteración 39: p38 = (274877906943.9902-0.0006171217414231852j), p39 = (-549755813887.97925+0.0012342434828463682j)\n",
      "Iteración 40: p39 = (-549755813887.97925+0.0012342434828463682j), p40 = (1099511627775.9563-0.0024922452236234433j)\n",
      "Iteración 41: p40 = (1099511627775.9563-0.0024922452236234433j), p41 = (-2199023255551.908+0.004984490447246874j)\n",
      "Iteración 42: p41 = (-2199023255551.908+0.004984490447246874j), p42 = (4398046511103.8047-0.010199603119741985j)\n",
      "Iteración 43: p42 = (4398046511103.8047-0.010199603119741985j), p43 = (-8796093022207.59+0.02039920623948392j)\n",
      "Iteración 44: p43 = (-8796093022207.59+0.02039920623948392j), p44 = (17592186044415.137-0.04202748137812645j)\n",
      "Iteración 45: p44 = (17592186044415.137-0.04202748137812645j), p45 = (-35184372088830.2+0.08405496275625271j)\n",
      "Iteración 46: p45 = (-35184372088830.2+0.08405496275625271j), p46 = (70368744177660.22-0.15951468205811228j)\n",
      "Iteración 47: p46 = (70368744177660.22-0.15951468205811228j), p47 = (-140737488355320.06+0.3190293641162236j)\n",
      "Iteración 48: p47 = (-140737488355320.06+0.3190293641162236j), p48 = (281474976710639.3-0.6783258343891401j)\n",
      "La derivada es muy cercana a cero, el método no converge.\n",
      "\n",
      "\n",
      "Iteración 1: p0 = 5, p1 = 0.5, p2 = -3.3980117618223327\n",
      "Iteración 2: p1 = 0.5, p2 = -3.3980117618223327, p3 = (0.42342548212957754-2.373791283892393j)\n",
      "Iteración 3: p2 = -3.3980117618223327, p3 = (0.42342548212957754-2.373791283892393j), p4 = (-2.506434572816832-3.343001585580911j)\n",
      "Iteración 4: p3 = (0.42342548212957754-2.373791283892393j), p4 = (-2.506434572816832-3.343001585580911j), p5 = (1.537946395028479+6.125822678839629j)\n",
      "Iteración 5: p4 = (-2.506434572816832-3.343001585580911j), p5 = (1.537946395028479+6.125822678839629j), p6 = (-7.895622939891771+3.325889225481498j)\n",
      "Iteración 6: p5 = (1.537946395028479+6.125822678839629j), p6 = (-7.895622939891771+3.325889225481498j), p7 = (6.554151215536118-12.735088076137382j)\n",
      "Iteración 7: p6 = (-7.895622939891771+3.325889225481498j), p7 = (6.554151215536118-12.735088076137382j), p8 = (-12.95378376757566-12.317401136903326j)\n",
      "Iteración 8: p7 = (6.554151215536118-12.735088076137382j), p8 = (-12.95378376757566-12.317401136903326j), p9 = (5.468753662426424+30.80985385003664j)\n",
      "Iteración 9: p8 = (-12.95378376757566-12.317401136903326j), p9 = (5.468753662426424+30.80985385003664j), p10 = (-35.05958741642519+15.886948700273436j)\n",
      "Iteración 10: p9 = (5.468753662426424+30.80985385003664j), p10 = (-35.05958741642519+15.886948700273436j), p11 = (32.050165663512885-59.72033599449141j)\n",
      "Iteración 11: p10 = (-35.05958741642519+15.886948700273436j), p11 = (32.050165663512885-59.72033599449141j), p12 = (-60.69294161558166-56.55878015192357j)\n",
      "Iteración 12: p11 = (32.050165663512885-59.72033599449141j), p12 = (-60.69294161558166-56.55878015192357j), p13 = (25.003712830447+144.33113207100942j)\n",
      "Iteración 13: p12 = (-60.69294161558166-56.55878015192357j), p13 = (25.003712830447+144.33113207100942j), p14 = (-163.0538389578072+74.20051941998942j)\n",
      "Iteración 14: p13 = (25.003712830447+144.33113207100942j), p14 = (-163.0538389578072+74.20051941998942j), p15 = (149.90944093589647-278.65013651493945j)\n",
      "Iteración 15: p14 = (-163.0538389578072+74.20051941998942j), p15 = (149.90944093589647-278.65013651493945j), p16 = (-283.17526560153624-263.571162582952j)\n",
      "Iteración 16: p15 = (149.90944093589647-278.65013651493945j), p16 = (-283.17526560153624-263.571162582952j), p17 = (116.48968158137973+673.4027429444614j)\n",
      "Iteración 17: p16 = (-283.17526560153624-263.571162582952j), p17 = (116.48968158137973+673.4027429444614j), p18 = (-760.4311803892363+346.13437169303984j)\n",
      "Iteración 18: p17 = (116.48968158137973+673.4027429444614j), p18 = (-760.4311803892363+346.13437169303984j), p19 = (699.3656185288155-1299.7857828780218j)\n",
      "Iteración 19: p18 = (-760.4311803892363+346.13437169303984j), p19 = (699.3656185288155-1299.7857828780218j), p20 = (-1320.8900563245384-1229.3584115710375j)\n",
      "Iteración 20: p19 = (699.3656185288155-1299.7857828780218j), p20 = (-1320.8900563245384-1229.3584115710375j), p21 = (543.326975583032+3141.131427360435j)\n",
      "Iteración 21: p20 = (-1320.8900563245384-1229.3584115710375j), p21 = (543.326975583032+3141.131427360435j), p22 = (-3546.9914314657844+1614.5496089745213j)\n",
      "Iteración 22: p21 = (543.326975583032+3141.131427360435j), p22 = (-3546.9914314657844+1614.5496089745213j), p23 = (3262.219386939554-6062.851826393732j)\n",
      "Iteración 23: p22 = (-3546.9914314657844+1614.5496089745213j), p23 = (3262.219386939554-6062.851826393732j), p24 = (-6161.291746869603-5734.318375773134j)\n",
      "Iteración 24: p23 = (3262.219386939554-6062.851826393732j), p24 = (-6161.291746869603-5734.318375773134j), p25 = (2534.3357456777176+14651.80747770748j)\n",
      "Iteración 25: p24 = (-6161.291746869603-5734.318375773134j), p25 = (2534.3357456777176+14651.80747770748j), p26 = (-16544.916653716667+7531.061937836286j)\n",
      "Iteración 26: p25 = (2534.3357456777176+14651.80747770748j), p26 = (-16544.916653716667+7531.061937836286j), p27 = (15216.617409777293-28280.14888843895j)\n",
      "Iteración 27: p26 = (-16544.916653716667+7531.061937836286j), p27 = (15216.617409777293-28280.14888843895j), p28 = (-28739.32124619665-26747.699000810822j)\n",
      "Iteración 28: p27 = (15216.617409777293-28280.14888843895j), p28 = (-28739.32124619665-26747.699000810822j), p29 = (11821.395591438351+68343.29858220498j)\n",
      "Iteración 29: p28 = (-28739.32124619665-26747.699000810822j), p29 = (11821.395591438351+68343.29858220498j), p30 = (-77173.69207132887+35128.60761493815j)\n",
      "Iteración 30: p29 = (11821.395591438351+68343.29858220498j), p30 = (-77173.69207132887+35128.60761493815j), p31 = (70977.8509583179-131912.63726519077j)\n",
      "Iteración 31: p30 = (-77173.69207132887+35128.60761493815j), p31 = (70977.8509583179-131912.63726519077j), p32 = (-134054.44474997328-124764.52921812683j)\n",
      "Iteración 32: p31 = (70977.8509583179-131912.63726519077j), p32 = (-134054.44474997328-124764.52921812683j), p33 = (55140.84971670003+318787.0327479243j)\n",
      "Iteración 33: p32 = (-134054.44474997328-124764.52921812683j), p33 = (55140.84971670003+318787.0327479243j), p34 = (-359976.3646597736+163857.2441495246j)\n",
      "Iteración 34: p33 = (55140.84971670003+318787.0327479243j), p34 = (-359976.3646597736+163857.2441495246j), p35 = (331075.8910084634-615305.947571132j)\n",
      "Iteración 35: p34 = (-359976.3646597736+163857.2441495246j), p35 = (331075.8910084634-615305.947571132j), p36 = (-625296.3996501989-581963.6268083638j)\n",
      "Iteración 36: p35 = (331075.8910084634-615305.947571132j), p36 = (-625296.3996501989-581963.6268083638j), p37 = (257204.26375471032+1486980.7875711839j)\n",
      "Iteración 37: p36 = (-625296.3996501989-581963.6268083638j), p37 = (257204.26375471032+1486980.7875711839j), p38 = (-1679108.2543366943+764311.4333198144j)\n",
      "Iteración 38: p37 = (257204.26375471032+1486980.7875711839j), p38 = (-1679108.2543366943+764311.4333198144j), p39 = (1544302.115683448-2870092.0312642083j)\n",
      "Iteración 39: p38 = (-1679108.2543366943+764311.4333198144j), p39 = (1544302.115683448-2870092.0312642083j), p40 = (-2916692.4533965536-2714566.91470746j)\n",
      "Iteración 40: p39 = (1544302.115683448-2870092.0312642083j), p40 = (-2916692.4533965536-2714566.91470746j), p41 = (1199728.2176059298+6936015.694124965j)\n",
      "Iteración 41: p40 = (-2916692.4533965536-2714566.91470746j), p41 = (1199728.2176059298+6936015.694124965j), p42 = (-7832193.462985488+3565127.4992759265j)\n",
      "Iteración 42: p41 = (1199728.2176059298+6936015.694124965j), p42 = (-7832193.462985488+3565127.4992759265j), p43 = (7203390.790478623-13387532.33304789j)\n",
      "Iteración 43: p42 = (-7832193.462985488+3565127.4992759265j), p43 = (7203390.790478623-13387532.33304789j), p44 = (-13604899.808107963-12662086.074203722j)\n",
      "Iteración 44: p43 = (7203390.790478623-13387532.33304789j), p44 = (-13604899.808107963-12662086.074203722j), p45 = (5596127.277121918+32353016.334013768j)\n",
      "Iteración 45: p44 = (-13604899.808107963-12662086.074203722j), p45 = (5596127.277121918+32353016.334013768j), p46 = (-36533233.806475356+16629522.38048752j)\n",
      "Iteración 46: p45 = (5596127.277121918+32353016.334013768j), p46 = (-36533233.806475356+16629522.38048752j), p47 = (33600186.357996166-62446088.84173228j)\n",
      "Iteración 47: p46 = (-36533233.806475356+16629522.38048752j), p47 = (33600186.357996166-62446088.84173228j), p48 = (-63459998.52435477-59062247.78702162j)\n",
      "Iteración 48: p47 = (33600186.357996166-62446088.84173228j), p48 = (-63459998.52435477-59062247.78702162j), p49 = (26103112.390179977+150910510.02017367j)\n",
      "Iteración 49: p48 = (-63459998.52435477-59062247.78702162j), p49 = (26103112.390179977+150910510.02017367j), p50 = (-170409117.02025253+77568337.92318794j)\n",
      "Iteración 50: p49 = (26103112.390179977+150910510.02017367j), p50 = (-170409117.02025253+77568337.92318794j), p51 = (156727929.40567666-291279521.4696274j)\n",
      "Iteración 51: p50 = (-170409117.02025253+77568337.92318794j), p51 = (156727929.40567666-291279521.4696274j), p52 = (-296008898.963808-275495608.9552074j)\n",
      "Iteración 52: p51 = (156727929.40567666-291279521.4696274j), p52 = (-296008898.963808-275495608.9552074j), p53 = (121757859.08945823+703921445.8221972j)\n",
      "Iteración 53: p52 = (-296008898.963808-275495608.9552074j), p53 = (121757859.08945823+703921445.8221972j), p54 = (-794872617.0108638+361817189.36352414j)\n",
      "Iteración 54: p53 = (121757859.08945823+703921445.8221972j), p54 = (-794872617.0108638+361817189.36352414j), p55 = (731056774.3307936-1358672115.4403884j)\n",
      "Iteración 55: p54 = (-794872617.0108638+361817189.36352414j), p55 = (731056774.3307936-1358672115.4403884j), p56 = (-1380732277.0759008-1285048121.217611j)\n",
      "Iteración 56: p55 = (731056774.3307936-1358672115.4403884j), p56 = (-1380732277.0759008-1285048121.217611j), p57 = (567939026.9041507+3283438653.9557257j)\n",
      "Iteración 57: p56 = (-1380732277.0759008-1285048121.217611j), p57 = (567939026.9041507+3283438653.9557257j), p58 = (-3707680013.379861+1687694773.7175364j)\n",
      "Iteración 58: p57 = (567939026.9041507+3283438653.9557257j), p58 = (-3707680013.379861+1687694773.7175364j), p59 = (3410011280.832924-6337520426.981846j)\n",
      "Iteración 59: p58 = (-3707680013.379861+1687694773.7175364j), p59 = (3410011280.832924-6337520426.981846j), p60 = (-6440419959.104992-5994101612.390502j)\n",
      "Iteración 60: p59 = (3410011280.832924-6337520426.981846j), p60 = (-6440419959.104992-5994101612.390502j), p61 = (2649149226.9410477+15315585934.02161j)\n",
      "Iteración 61: p60 = (-6440419959.104992-5994101612.390502j), p61 = (2649149226.9410477+15315585934.02161j), p62 = (-17294457989.145466+7872245246.9546385j)\n",
      "Iteración 62: p61 = (2649149226.9410477+15315585934.02161j), p62 = (-17294457989.145466+7872245246.9546385j), p63 = (15905983425.230137-29561337651.64799j)\n",
      "Iteración 63: p62 = (-17294457989.145466+7872245246.9546385j), p63 = (15905983425.230137-29561337651.64799j), p64 = (-30041312090.915806-27959462020.4718j)\n",
      "Iteración 64: p63 = (15905983425.230137-29561337651.64799j), p64 = (-30041312090.915806-27959462020.4718j), p65 = (12356945541.949398+71439486837.92389j)\n",
      "Iteración 65: p64 = (-30041312090.915806-27959462020.4718j), p65 = (12356945541.949398+71439486837.92389j), p66 = (-80669927301.96915+36720055186.099655j)\n",
      "Iteración 66: p65 = (12356945541.949398+71439486837.92389j), p66 = (-80669927301.96915+36720055186.099655j), p67 = (74193393478.12894-137888736426.6706j)\n",
      "Iteración 67: p66 = (-80669927301.96915+36720055186.099655j), p67 = (74193393478.12894-137888736426.6706j), p68 = (-140127575200.73572-130416794212.87677j)\n",
      "Iteración 68: p67 = (74193393478.12894-137888736426.6706j), p68 = (-140127575200.73572-130416794212.87677j), p69 = (57638921044.48114+333229188987.7292j)\n",
      "Iteración 69: p68 = (-140127575200.73572-130416794212.87677j), p69 = (57638921044.48114+333229188987.7292j), p70 = (-376284540110.44336+171280544567.86832j)\n",
      "Iteración 70: p69 = (57638921044.48114+333229188987.7292j), p70 = (-376284540110.44336+171280544567.86832j), p71 = (346074775047.7942-643181437098.5977j)\n",
      "Iteración 71: p70 = (-376284540110.44336+171280544567.86832j), p71 = (346074775047.7942-643181437098.5977j), p72 = (-653624491241.0298-608328593744.4097j)\n",
      "Iteración 72: p71 = (346074775047.7942-643181437098.5977j), p72 = (-653624491241.0298-608328593744.4097j), p73 = (268856507289.24646+1554346164962.554j)\n",
      "Iteración 73: p72 = (-653624491241.0298-608328593744.4097j), p73 = (268856507289.24646+1554346164962.554j), p74 = (-1755177671056.0112+798937387179.3917j)\n",
      "Iteración 74: p73 = (268856507289.24646+1554346164962.554j), p74 = (-1755177671056.0112+798937387179.3917j), p75 = (1614264347669.812-3000117136095.5522j)\n",
      "Iteración 75: p74 = (-1755177671056.0112+798937387179.3917j), p75 = (1614264347669.812-3000117136095.5522j), p76 = (-3048828718673.5825-2837546193345.3423j)\n",
      "Iteración 76: p75 = (1614264347669.812-3000117136095.5522j), p76 = (-3048828718673.5825-2837546193345.3423j), p77 = (1254080059132.083+7250241216482.281j)\n",
      "Iteración 77: p76 = (-3048828718673.5825-2837546193345.3423j), p77 = (1254080059132.083+7250241216482.281j), p78 = (-8187018940691.53+3726640116911.3105j)\n",
      "Iteración 78: p77 = (1254080059132.083+7250241216482.281j), p78 = (-8187018940691.53+3726640116911.3105j), p79 = (7529729330310.091-13994033893292.209j)\n",
      "Iteración 79: p78 = (-8187018940691.53+3726640116911.3105j), p79 = (7529729330310.091-13994033893292.209j), p80 = (-14221248867464.852-13235722407537.46j)\n",
      "Iteración 80: p79 = (7529729330310.091-13994033893292.209j), p80 = (-14221248867464.852-13235722407537.46j), p81 = (5849651215697.48+33818719975060.93j)\n",
      "Iteración 81: p80 = (-14221248867464.852-13235722407537.46j), p81 = (5849651215697.48+33818719975060.93j), p82 = (-38188315770285.86+17382897313146.191j)\n",
      "Iteración 82: p81 = (5849651215697.48+33818719975060.93j), p82 = (-38188315770285.86+17382897313146.191j), p83 = (35122391118637.97-65275112844918.66j)\n",
      "Iteración 83: p82 = (-38188315770285.86+17382897313146.191j), p83 = (35122391118637.97-65275112844918.66j), p84 = (-66334956146161.72-61737972076096.74j)\n",
      "Iteración 84: p83 = (35122391118637.97-65275112844918.66j), p84 = (-66334956146161.72-61737972076096.74j), p85 = (27285673746373.875+157747278552822.44j)\n",
      "Iteración 85: p84 = (-66334956146161.72-61737972076096.74j), p85 = (27285673746373.875+157747278552822.44j), p86 = (-178129239951151.47+81082452160640.78j)\n",
      "Iteración 86: p85 = (27285673746373.875+157747278552822.44j), p86 = (-178129239951151.47+81082452160640.78j), p87 = (163828247175489.78-304475492156640.9j)\n",
      "Iteración 87: p86 = (-178129239951151.47+81082452160640.78j), p87 = (163828247175489.78-304475492156640.9j), p88 = (-309419126823678.1-287976513763864.3j)\n",
      "Iteración 88: p87 = (163828247175489.78-304475492156640.9j), p88 = (-309419126823678.1-287976513763864.3j), p89 = (127273911612999.31+735811524184600j)\n",
      "Iteración 89: p88 = (-309419126823678.1-287976513763864.3j), p89 = (127273911612999.31+735811524184600j), p90 = (-830883098286933.5+378208760596577.4j)\n",
      "Iteración 90: p89 = (127273911612999.31+735811524184600j), p90 = (-830883098286933.5+378208760596577.4j), p91 = (764176177012924-1420224665781568j)\n",
      "Iteración 91: p90 = (-830883098286933.5+378208760596577.4j), p91 = (764176177012924-1420224665781568j), p92 = (-1443284229108021.8-1343265249745667.8j)\n",
      "Iteración 92: p91 = (764176177012924-1420224665781568j), p92 = (-1443284229108021.8-1343265249745667.8j), p93 = (593668630939568.8+3432189791734300j)\n",
      "Iteración 93: p92 = (-1443284229108021.8-1343265249745667.8j), p93 = (593668630939568.8+3432189791734300j), p94 = (-3875650753398008+1764153189503988.8j)\n",
      "Iteración 94: p93 = (593668630939568.8+3432189791734300j), p94 = (-3875650753398008+1764153189503988.8j), p95 = (3564496596783791-6624632041835007j)\n",
      "Iteración 95: p94 = (-3875650753398008+1764153189503988.8j), p95 = (3564496596783791-6624632041835007j), p96 = (-6732193278985523-6265655166080094j)\n",
      "Iteración 96: p95 = (3564496596783791-6624632041835007j), p96 = (-6732193278985523-6265655166080094j), p97 = (2769164857864443+1.6009434997011262e+16j)\n",
      "Iteración 97: p96 = (-6732193278985523-6265655166080094j), p97 = (2769164857864443+1.6009434997011262e+16j), p98 = (-1.8077956806779764e+16+8228885209131412j)\n",
      "Iteración 98: p97 = (2769164857864443+1.6009434997011262e+16j), p98 = (-1.8077956806779764e+16+8228885209131412j), p99 = (1.6626579538435876e+16-3.0900568584024804e+16j)\n",
      "Iteración 99: p98 = (-1.8077956806779764e+16+8228885209131412j), p99 = (1.6626579538435876e+16-3.0900568584024804e+16j), p100 = (-3.140228752698838e+16-2.92261224413118e+16j)\n",
      "Iteración 100: p99 = (1.6626579538435876e+16-3.0900568584024804e+16j), p100 = (-3.140228752698838e+16-2.92261224413118e+16j), p101 = (1.2916757952824988e+16+7.467594290408362e+16j)\n",
      "No se alcanzó la tolerancia en el número máximo de iteraciones.\n",
      "Resultado del Método de Newton: None\n",
      "\n",
      "\n",
      "Resultado del Método de la Secante: (1.2916757952824988e+16+7.467594290408362e+16j)\n"
     ]
    }
   ],
   "execution_count": 5
  },
  {
   "metadata": {},
   "cell_type": "code",
   "outputs": [],
   "execution_count": null,
   "source": "",
   "id": "27590cb8e4d2f3c1"
  }
 ],
 "metadata": {
  "kernelspec": {
   "display_name": "Python 3",
   "language": "python",
   "name": "python3"
  },
  "language_info": {
   "codemirror_mode": {
    "name": "ipython",
    "version": 2
   },
   "file_extension": ".py",
   "mimetype": "text/x-python",
   "name": "python",
   "nbconvert_exporter": "python",
   "pygments_lexer": "ipython2",
   "version": "2.7.6"
  }
 },
 "nbformat": 4,
 "nbformat_minor": 5
}
