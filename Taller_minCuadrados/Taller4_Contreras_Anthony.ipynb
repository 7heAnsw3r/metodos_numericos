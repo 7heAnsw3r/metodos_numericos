{
 "cells": [
  {
   "metadata": {},
   "cell_type": "markdown",
   "source": [
    "# Taller 4\n",
    "## Ajuste de Curvas por mínimo cuadrados\n",
    "[Repositorio](https://github.com/7heAnsw3r/metodos_numericos/blob/main/Taller_minCuadrados/Taller4_Contreras_Anthony.ipynb)"
   ],
   "id": "424feb6908e5aa3c"
  },
  {
   "metadata": {
    "ExecuteTime": {
     "end_time": "2024-12-14T12:30:50.147600Z",
     "start_time": "2024-12-14T12:30:50.142120Z"
    }
   },
   "cell_type": "code",
   "source": [
    "\"\"\"p1=(5.4, 3.2)\n",
    "p2_i=(9.5, 0.7)\n",
    "p3=(12.3, -3.6)\"\"\""
   ],
   "id": "fd6d479f80e8a066",
   "outputs": [],
   "execution_count": 2
  },
  {
   "metadata": {
    "ExecuteTime": {
     "end_time": "2024-12-14T13:45:12.615965Z",
     "start_time": "2024-12-14T13:45:12.472242Z"
    }
   },
   "cell_type": "code",
   "outputs": [
    {
     "data": {
      "text/plain": [
       "interactive(children=(FloatSlider(value=9.5, description='p2_x', max=12.3, min=5.4), FloatSlider(value=0.7, de…"
      ],
      "application/vnd.jupyter.widget-view+json": {
       "version_major": 2,
       "version_minor": 0,
       "model_id": "744490f960614f60b94c6a747dc1c107"
      }
     },
     "metadata": {},
     "output_type": "display_data"
    },
    {
     "data": {
      "text/plain": [
       "<function __main__.update_plot(p2_x, p2_y)>"
      ]
     },
     "execution_count": 20,
     "metadata": {},
     "output_type": "execute_result"
    }
   ],
   "execution_count": 20,
   "source": [
    "from ipywidgets import interact, widgets\n",
    "import matplotlib.pyplot as plt\n",
    "import numpy as np\n",
    "\n",
    "x_data = np.array([5.4, 9.5, 12.3])\n",
    "y_data = np.array([3.2, 0.7, -3.6])\n",
    "\n",
    "# Puntos iniciales\n",
    "p1 = (x_data[0], y_data[0])\n",
    "p2_inicial = (x_data[1], y_data[1])\n",
    "p3 = (x_data[2], y_data[2])\n",
    "\n",
    "m = -1\n",
    "b = 8\n",
    "\n",
    "def update_plot(p2_x, p2_y):\n",
    "    x_coords = [p1[0], p2_x, p3[0]]\n",
    "    y_coords = [p1[1], p2_y, p3[1]]\n",
    "\n",
    "    plt.figure(figsize=(10, 6))\n",
    "    plt.scatter(x_coords, y_coords, color=\"red\", zorder=5)\n",
    "\n",
    "    # Línea de ajuste\n",
    "    x_line = np.linspace(min(x_coords), max(x_coords), 100)\n",
    "    y_line = m * x_line + b\n",
    "    plt.plot(x_line, y_line, color=\"blue\", linestyle=\"--\", linewidth=2, zorder=3)\n",
    "\n",
    "    plt.xlabel(\"X\")\n",
    "    plt.ylabel(\"Y\")\n",
    "    plt.title(\"Points and Line Plot\")\n",
    "    plt.grid(True)\n",
    "    plt.show()\n",
    "\n",
    "# Uso de interact con widgets\n",
    "interact(\n",
    "    update_plot,\n",
    "    p2_x=widgets.FloatSlider(min=5.4, max=12.3, step=0.1, value=p2_inicial[0]),\n",
    "    p2_y=widgets.FloatSlider(min=-10.0, max=10.0, step=0.1, value=p2_inicial[1])\n",
    ")\n"
   ],
   "id": "ce341e723aa0eab2"
  }
 ],
 "metadata": {
  "kernelspec": {
   "display_name": "Python 3",
   "language": "python",
   "name": "python3"
  },
  "language_info": {
   "codemirror_mode": {
    "name": "ipython",
    "version": 2
   },
   "file_extension": ".py",
   "mimetype": "text/x-python",
   "name": "python",
   "nbconvert_exporter": "python",
   "pygments_lexer": "ipython2",
   "version": "2.7.6"
  }
 },
 "nbformat": 4,
 "nbformat_minor": 5
}
