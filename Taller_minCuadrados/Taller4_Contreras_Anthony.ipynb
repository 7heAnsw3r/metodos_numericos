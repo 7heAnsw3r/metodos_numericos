{
 "cells": [
  {
   "metadata": {},
   "cell_type": "markdown",
   "source": [
    "# Taller 4\n",
    "## Ajuste de Curvas por mínimo cuadrados"
   ],
   "id": "424feb6908e5aa3c"
  },
  {
   "metadata": {
    "ExecuteTime": {
     "end_time": "2024-12-14T12:30:50.147600Z",
     "start_time": "2024-12-14T12:30:50.142120Z"
    }
   },
   "cell_type": "code",
   "source": [
    "\"\"\"p1=(5.4, 3.2)\n",
    "p2_i=(9.5, 0.7)\n",
    "p3=(12.3, -3.6)\"\"\""
   ],
   "id": "fd6d479f80e8a066",
   "outputs": [],
   "execution_count": 2
  },
  {
   "metadata": {
    "ExecuteTime": {
     "end_time": "2024-12-14T13:04:19.033323Z",
     "start_time": "2024-12-14T13:04:18.864376Z"
    }
   },
   "cell_type": "code",
   "source": [
    "from ipywidgets import interact, widgets\n",
    "import matplotlib.pyplot as plt\n",
    "import numpy as np\n",
    "\n",
    "x_data = np.array([5.4, 9.5, 12.3])\n",
    "y_data = np.array([3.2, 0.7, -3.6])\n",
    "\n",
    "# Puntos iniciales\n",
    "p1 = (x_data[0], y_data[0])\n",
    "p2_i = (x_data[1], y_data[1])\n",
    "p3 = (x_data[2], y_data[2])\n",
    "\n",
    "m = -1\n",
    "b = 8\n",
    "\n",
    "def update_plot(p2_x, p2_y):\n",
    "    x_coords = [p1[0], p2_x, p3[0]]\n",
    "    y_coords = [p1[1], p2_y, p3[1]]\n",
    "\n",
    "    plt.figure(figsize=(10, 6))\n",
    "    plt.scatter(x_coords, y_coords, color=\"red\")\n",
    "\n",
    "    # Línea de ajuste\n",
    "    x_line = [min(x_coords), max(x_coords)]\n",
    "    y_line = [m * x + b for x in x_line]\n",
    "    plt.plot(x_line, y_line, color=\"blue\")\n",
    "\n",
    "    plt.xlabel(\"X\")\n",
    "    plt.ylabel(\"Y\")\n",
    "    plt.title(\"Points and Line Plot\")\n",
    "    plt.show()\n",
    "\n",
    "# Uso de interact con widgets\n",
    "interact(\n",
    "    update_plot,\n",
    "    p2_x=widgets.FloatSlider(\n",
    "        min=min(p1[0], p3[0]), max=max(p1[0], p3[0]), step=0.1, value=p2_i[0]\n",
    "    ),\n",
    "    p2_y=widgets.FloatSlider(\n",
    "        min=min(p1[1], p3[1]), max=max(p1[1], p3[1]), step=0.1, value=p2_i[1]\n",
    "    )\n",
    ")\n"
   ],
   "id": "ce341e723aa0eab2",
   "outputs": [
    {
     "data": {
      "text/plain": [
       "interactive(children=(FloatSlider(value=9.5, description='p2_x', max=12.3, min=5.4), FloatSlider(value=0.7, de…"
      ],
      "application/vnd.jupyter.widget-view+json": {
       "version_major": 2,
       "version_minor": 0,
       "model_id": "1e2dd162fa2d4f079a1da679b7367509"
      }
     },
     "metadata": {},
     "output_type": "display_data"
    },
    {
     "data": {
      "text/plain": [
       "<function __main__.update_plot(p2_x, p2_y)>"
      ]
     },
     "execution_count": 4,
     "metadata": {},
     "output_type": "execute_result"
    }
   ],
   "execution_count": 4
  },
  {
   "metadata": {},
   "cell_type": "code",
   "outputs": [],
   "execution_count": null,
   "source": "",
   "id": "e48faa390c575963"
  }
 ],
 "metadata": {
  "kernelspec": {
   "display_name": "Python 3",
   "language": "python",
   "name": "python3"
  },
  "language_info": {
   "codemirror_mode": {
    "name": "ipython",
    "version": 2
   },
   "file_extension": ".py",
   "mimetype": "text/x-python",
   "name": "python",
   "nbconvert_exporter": "python",
   "pygments_lexer": "ipython2",
   "version": "2.7.6"
  }
 },
 "nbformat": 4,
 "nbformat_minor": 5
}
